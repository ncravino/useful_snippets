{
 "cells": [
  {
   "cell_type": "markdown",
   "metadata": {},
   "source": [
    "# Multiple Inheritance, Super, and MRO TL;DR\n",
    "\n",
    "Class initialization in Python can get tricky to understand at the beginning, especially when using multiple inheritance.\n",
    "\n",
    "You can think that any call or field access will go to the class that got to define it last when everything was initialized. \n",
    "\n",
    "That order of initalization will depend on where `super().__init__(...)` is called inside each class `__init__` and also on how parent classes are ordered in the class definition.\n",
    "\n",
    "So if you have:\n",
    "```python\n",
    "    class Sub(ParA, ParB, ParC):\n",
    "        pass\n",
    "```\n",
    "\n",
    "and if every parent invokes super before doing anything else in `__init__`, the initialization order will be:\n",
    "\n",
    "- ParA calls super to ParB\n",
    "- ParB calls super to ParC \n",
    "- ParC calls super to object (which does nothing) and initializes itself\n",
    "- ParB initializes itself\n",
    "- ParA initializes itself\n",
    "\n",
    "But lets look at some examples bellow.\n",
    "\n",
    "First let's define two parent classes ParentA and ParentB which define `somefield_a` and `somefield_b` respectively, and for both there's the definition of the field `shared` and method `get_shared`.\n",
    "\n",
    "We add some prints so we can see the flow."
   ]
  },
  {
   "cell_type": "code",
   "execution_count": 44,
   "metadata": {},
   "outputs": [],
   "source": [
    "class ParentA:\n",
    "    def __init__(self, somefield_a :int, shared : str = None, **kwargs):\n",
    "        print(\"ParentA calling super\")\n",
    "        super().__init__(**kwargs)\n",
    "        print(\"ParentA defining methods and fields\")\n",
    "        self.shared = shared if shared else \"ParentA\" \n",
    "        self.somefield_a = somefield_a\n",
    "\n",
    "    def a_shared(self):\n",
    "        return f\"ParentA is using shared from {self.shared}\"\n",
    "    \n",
    "    def get_shared(self):\n",
    "        return f\"using get_shared from ParentA to get shared from {self.shared}\"\n",
    "\n",
    "\n",
    "class ParentB:\n",
    "    def __init__(self, somefield_b :int, shared : str = None, **kwargs):\n",
    "        print(\"ParentB calling super\")\n",
    "        super().__init__(**kwargs)\n",
    "        print(\"ParentB defining methods and fields\")\n",
    "        self.shared = shared if shared else \"ParentB\" \n",
    "        self.somefield_b = somefield_b\n",
    "    \n",
    "    def b_shared(self):\n",
    "        return f\"ParentB is using shared from {self.shared}\"\n",
    "        \n",
    "    def get_shared(self):\n",
    "        return f\"using get_shared from ParentB to get shared from {self.shared}\"        \n"
   ]
  },
  {
   "cell_type": "markdown",
   "metadata": {},
   "source": [
    "We also define a function `instance_report` to make it easier to print everything we need to see about the class."
   ]
  },
  {
   "cell_type": "code",
   "execution_count": 45,
   "metadata": {},
   "outputs": [],
   "source": [
    "def instance_report(instance):\n",
    "    print(f\"\"\"   \n",
    "    class: {type(instance)}\n",
    "    instance.somefield_a: {instance.somefield_a}\n",
    "    instance.somefield_b: {instance.somefield_b}\n",
    "    instance.shared: {instance.shared}\n",
    "    ParentA.a_shared: {instance.a_shared()}\n",
    "    ParentB.b_shared: {instance.b_shared()}\n",
    "    instance.get_shared: {instance.get_shared()}\"\"\")"
   ]
  },
  {
   "cell_type": "markdown",
   "metadata": {},
   "source": [
    "## Calling super before anything else \n",
    "\n",
    "Let's look at an example subclass that inherits from both ParentA and ParentB, and also defines the field shared that exists on both parent classes.\n",
    "\n",
    "We will start with an example that calls super before anything else (the recommended way for most use cases)."
   ]
  },
  {
   "cell_type": "code",
   "execution_count": 46,
   "metadata": {},
   "outputs": [
    {
     "name": "stdout",
     "output_type": "stream",
     "text": [
      "SubClassSuperFirst calling super\n",
      "ParentA calling super\n",
      "ParentB calling super\n",
      "ParentB defining methods and fields\n",
      "ParentA defining methods and fields\n",
      "SubClassSuperFirst defining fields\n"
     ]
    }
   ],
   "source": [
    "class SubClassSuperFirst(ParentA, ParentB):\n",
    "    def __init__(self, subfield :int, shared : str = None, **kwargs):\n",
    "        print(\"SubClassSuperFirst calling super\")\n",
    "        super().__init__(**kwargs)\n",
    "        print(\"SubClassSuperFirst defining fields\")\n",
    "        self.shared = shared if shared else \"SubClassSuperFirst\" \n",
    "\n",
    "\n",
    "instance_of_SubClassSuperFirst = SubClassSuperFirst(subfield=1, somefield_a=2, somefield_b=3)"
   ]
  },
  {
   "cell_type": "markdown",
   "metadata": {},
   "source": [
    "## What is happening?"
   ]
  },
  {
   "cell_type": "code",
   "execution_count": 47,
   "metadata": {},
   "outputs": [
    {
     "name": "stdout",
     "output_type": "stream",
     "text": [
      "   \n",
      "    class: <class '__main__.SubClassSuperFirst'>\n",
      "    instance.somefield_a: 2\n",
      "    instance.somefield_b: 3\n",
      "    instance.shared: SubClassSuperFirst\n",
      "    ParentA.a_shared: ParentA is using shared from SubClassSuperFirst\n",
      "    ParentB.b_shared: ParentB is using shared from SubClassSuperFirst\n",
      "    instance.get_shared: using get_shared from ParentA to get shared from SubClassSuperFirst\n"
     ]
    }
   ],
   "source": [
    "instance_report(instance_of_SubClassSuperFirst)"
   ]
  },
  {
   "cell_type": "markdown",
   "metadata": {},
   "source": [
    "The way initialization works is based on two things:\n",
    "- where is super being called\n",
    "- how are parent classes ordered in the sub class definition\n",
    "\n",
    "In our subclass super is called before anything else, so the last class to define the \"shared\" field is SubClassSuperFirst.\n",
    "\n",
    "In this case we have ParentA and then ParentB. They both call super before anything else. So the last one that gets to define get_shared is ParentA (after calling super that initializes ParentB).\n"
   ]
  },
  {
   "cell_type": "markdown",
   "metadata": {},
   "source": [
    "## What if we move the super call to the end on SubClassSuperFirst?\n",
    "\n",
    "Let's look at an example subclass that inherits from both ParentA and ParentB, and also defines the field shared that exists on both parent classes.\n",
    "\n",
    "This example calls super after defining everything else."
   ]
  },
  {
   "cell_type": "code",
   "execution_count": 48,
   "metadata": {},
   "outputs": [
    {
     "name": "stdout",
     "output_type": "stream",
     "text": [
      "SubClassSuperLast defining fields\n",
      "SubClassSuperLast calling super\n",
      "ParentA calling super\n",
      "ParentB calling super\n",
      "ParentB defining methods and fields\n",
      "ParentA defining methods and fields\n"
     ]
    }
   ],
   "source": [
    "class SubClassSuperLast(ParentA, ParentB):\n",
    "    def __init__(self, subfield :int, shared : str = None, **kwargs):       \n",
    "        print(\"SubClassSuperLast defining fields\")\n",
    "        self.shared = shared if shared else \"SubClassSuperLast\" \n",
    "        self.subfield = subfield\n",
    "        print(\"SubClassSuperLast calling super\")\n",
    "        super().__init__(**kwargs)\n",
    "\n",
    "instance_of_SubClassSuperLast = SubClassSuperLast(subfield=1, somefield_a=2, somefield_b=3)"
   ]
  },
  {
   "cell_type": "code",
   "execution_count": 49,
   "metadata": {},
   "outputs": [
    {
     "name": "stdout",
     "output_type": "stream",
     "text": [
      "   \n",
      "    class: <class '__main__.SubClassSuperLast'>\n",
      "    instance.somefield_a: 2\n",
      "    instance.somefield_b: 3\n",
      "    instance.shared: ParentA\n",
      "    ParentA.a_shared: ParentA is using shared from ParentA\n",
      "    ParentB.b_shared: ParentB is using shared from ParentA\n",
      "    instance.get_shared: using get_shared from ParentA to get shared from ParentA\n"
     ]
    }
   ],
   "source": [
    "instance_report(instance_of_SubClassSuperLast)"
   ]
  },
  {
   "cell_type": "markdown",
   "metadata": {},
   "source": [
    "Just like before we have ParentA and then ParentB. They both call super before anything else. So the last one that gets to define get_shared is ParentA (after calling super that initializes ParentB).\n",
    "\n",
    "In this other subclass we have super called after everything else on the subclass, so the last class to define the \"shared\" field is ParentA."
   ]
  },
  {
   "cell_type": "markdown",
   "metadata": {},
   "source": [
    "## What if we swap ParentB and ParentA order on class definition on SubClassSuperLast?\n",
    "\n",
    "Let's look at an example subclass that inherits from both ParentA and ParentB, and also defines the field shared that exists on both parent classes.\n",
    "\n",
    "This example calls super after defining everything else, but swaps the order of parent classes in the class definition."
   ]
  },
  {
   "cell_type": "code",
   "execution_count": 50,
   "metadata": {},
   "outputs": [
    {
     "name": "stdout",
     "output_type": "stream",
     "text": [
      "SubClassSuperLastSwapped defining fields\n",
      "SubClassSuperLastSwapped calling super\n",
      "ParentB calling super\n",
      "ParentA calling super\n",
      "ParentA defining methods and fields\n",
      "ParentB defining methods and fields\n"
     ]
    }
   ],
   "source": [
    "class SubClassSuperLastSwapped(ParentB, ParentA):\n",
    "    def __init__(self, subfield :int, shared : str = None, **kwargs):       \n",
    "        print(\"SubClassSuperLastSwapped defining fields\")\n",
    "        self.shared = shared if shared else \"SubClassSuperLastSwapped\" \n",
    "        self.subfield = subfield\n",
    "        print(\"SubClassSuperLastSwapped calling super\")\n",
    "        super().__init__(**kwargs)\n",
    "\n",
    "\n",
    "instance_of_SubClassSuperLastSwapped = SubClassSuperLastSwapped(subfield=1, somefield_a=2, somefield_b=3)"
   ]
  },
  {
   "cell_type": "code",
   "execution_count": 51,
   "metadata": {},
   "outputs": [
    {
     "name": "stdout",
     "output_type": "stream",
     "text": [
      "   \n",
      "    class: <class '__main__.SubClassSuperLastSwapped'>\n",
      "    instance.somefield_a: 2\n",
      "    instance.somefield_b: 3\n",
      "    instance.shared: ParentB\n",
      "    ParentA.a_shared: ParentA is using shared from ParentB\n",
      "    ParentB.b_shared: ParentB is using shared from ParentB\n",
      "    instance.get_shared: using get_shared from ParentB to get shared from ParentB\n"
     ]
    }
   ],
   "source": [
    "instance_report(instance_of_SubClassSuperLastSwapped)"
   ]
  },
  {
   "cell_type": "markdown",
   "metadata": {},
   "source": [
    "Now instead of the previous ordering we have ParentB and then ParentA. They both call super before anything else. So the last one that gets to define get_shared is ParentB (after calling super that initializes ParentA).\n",
    "\n",
    "Again we have super called after everything else on the subclass, so the last class to define the \"shared\" field is ParentB."
   ]
  },
  {
   "cell_type": "markdown",
   "metadata": {},
   "source": [
    "## What if we did the same swap of ParentB and ParentA order on class definition but on SubClassSuperFirst?\n",
    "\n",
    "Let's look at an example subclass that inherits from both ParentA and ParentB, and also defines the field shared that exists on both parent classes.\n",
    "\n",
    "This example calls super before defining anything else, but swaps the order of parent classes in the class definition."
   ]
  },
  {
   "cell_type": "code",
   "execution_count": 52,
   "metadata": {},
   "outputs": [
    {
     "name": "stdout",
     "output_type": "stream",
     "text": [
      "SubClassSuperFirstSwapped calling super\n",
      "ParentB calling super\n",
      "ParentA calling super\n",
      "ParentA defining methods and fields\n",
      "ParentB defining methods and fields\n",
      "SubClassSuperFirstSwapped defining fields\n"
     ]
    }
   ],
   "source": [
    "class SubClassSuperFirstSwapped(ParentB, ParentA):\n",
    "    def __init__(self, subfield :int, shared : str = None, **kwargs):\n",
    "        print(\"SubClassSuperFirstSwapped calling super\")\n",
    "        super().__init__(**kwargs)\n",
    "        print(\"SubClassSuperFirstSwapped defining fields\")\n",
    "        self.shared = shared if shared else \"SubClassSuperFirstSwapped\" \n",
    "        self.subfield = subfield\n",
    "\n",
    "\n",
    "instance_of_SubClassSuperFirstSwapped = SubClassSuperFirstSwapped(subfield=1, somefield_a=2, somefield_b=3)"
   ]
  },
  {
   "cell_type": "code",
   "execution_count": 53,
   "metadata": {},
   "outputs": [
    {
     "name": "stdout",
     "output_type": "stream",
     "text": [
      "   \n",
      "    class: <class '__main__.SubClassSuperFirstSwapped'>\n",
      "    instance.somefield_a: 2\n",
      "    instance.somefield_b: 3\n",
      "    instance.shared: SubClassSuperFirstSwapped\n",
      "    ParentA.a_shared: ParentA is using shared from SubClassSuperFirstSwapped\n",
      "    ParentB.b_shared: ParentB is using shared from SubClassSuperFirstSwapped\n",
      "    instance.get_shared: using get_shared from ParentB to get shared from SubClassSuperFirstSwapped\n"
     ]
    }
   ],
   "source": [
    "instance_report(instance_of_SubClassSuperFirstSwapped)"
   ]
  },
  {
   "cell_type": "markdown",
   "metadata": {},
   "source": [
    "We again have the swapped ordering with ParentB and then ParentA. They both call super before anything else. So the last one that gets to define get_shared is ParentB (after calling super that initializes ParentA).\n",
    "\n",
    "But now we have super called after before else on the subclass, so the last class to define the \"shared\" field is the subclass SubClassSuperFirstSwapped."
   ]
  },
  {
   "cell_type": "markdown",
   "metadata": {},
   "source": [
    "## TL;DR \n",
    "\n"
   ]
  }
 ],
 "metadata": {
  "kernelspec": {
   "display_name": ".venv",
   "language": "python",
   "name": "python3"
  },
  "language_info": {
   "codemirror_mode": {
    "name": "ipython",
    "version": 3
   },
   "file_extension": ".py",
   "mimetype": "text/x-python",
   "name": "python",
   "nbconvert_exporter": "python",
   "pygments_lexer": "ipython3",
   "version": "3.12.3"
  }
 },
 "nbformat": 4,
 "nbformat_minor": 2
}
